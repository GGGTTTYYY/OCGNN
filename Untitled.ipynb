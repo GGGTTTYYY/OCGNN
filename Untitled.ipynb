{
 "cells": [
  {
   "cell_type": "code",
   "execution_count": 48,
   "metadata": {},
   "outputs": [],
   "source": [
    "from dgl.data import RedditDataset,AmazonCoBuy, citation_graph\n",
    "from collections import Counter\n"
   ]
  },
  {
   "cell_type": "code",
   "execution_count": 56,
   "metadata": {},
   "outputs": [
    {
     "name": "stdout",
     "output_type": "stream",
     "text": [
      "Finished data loading.\n",
      "  NumNodes: 232965\n",
      "  NumEdges: 114615892\n",
      "  NumFeats: 602\n",
      "  NumClasses: 41\n",
      "  NumTrainingSamples: 153431\n",
      "  NumValidationSamples: 23831\n",
      "  NumTestSamples: 55703\n"
     ]
    }
   ],
   "source": [
    "Reddit_data =RedditDataset()"
   ]
  },
  {
   "cell_type": "code",
   "execution_count": 67,
   "metadata": {},
   "outputs": [
    {
     "data": {
      "text/plain": [
       "array([False,  True, False, ...,  True,  True, False])"
      ]
     },
     "execution_count": 67,
     "metadata": {},
     "output_type": "execute_result"
    }
   ],
   "source": [
    "Reddit_data.train_mask"
   ]
  },
  {
   "cell_type": "code",
   "execution_count": 68,
   "metadata": {},
   "outputs": [
    {
     "data": {
      "text/plain": [
       "Counter({17: 1647,\n",
       "         23: 8129,\n",
       "         22: 5311,\n",
       "         33: 3376,\n",
       "         38: 7280,\n",
       "         18: 9103,\n",
       "         6: 2803,\n",
       "         3: 10589,\n",
       "         31: 3224,\n",
       "         19: 7072,\n",
       "         5: 2384,\n",
       "         15: 16516,\n",
       "         4: 1567,\n",
       "         34: 2276,\n",
       "         29: 3851,\n",
       "         36: 2855,\n",
       "         40: 3371,\n",
       "         21: 2795,\n",
       "         10: 3336,\n",
       "         27: 4056,\n",
       "         11: 2009,\n",
       "         0: 8457,\n",
       "         8: 7679,\n",
       "         39: 2107,\n",
       "         14: 3135,\n",
       "         2: 2226,\n",
       "         28: 3273,\n",
       "         26: 2884,\n",
       "         20: 1065,\n",
       "         7: 1481,\n",
       "         12: 1131,\n",
       "         37: 2826,\n",
       "         30: 1875,\n",
       "         1: 2360,\n",
       "         9: 1455,\n",
       "         35: 2841,\n",
       "         16: 721,\n",
       "         32: 1096,\n",
       "         13: 1881,\n",
       "         25: 1152,\n",
       "         24: 236})"
      ]
     },
     "execution_count": 68,
     "metadata": {},
     "output_type": "execute_result"
    }
   ],
   "source": [
    "Counter(Reddit_data.labels[Reddit_data.train_mask])"
   ]
  },
  {
   "cell_type": "code",
   "execution_count": 49,
   "metadata": {},
   "outputs": [],
   "source": [
    "cora_data =citation_graph.load_cora()"
   ]
  },
  {
   "cell_type": "code",
   "execution_count": 54,
   "metadata": {},
   "outputs": [
    {
     "data": {
      "text/plain": [
       "DGLGraph(num_nodes=2708, num_edges=10556,\n",
       "         ndata_schemes={'train_mask': Scheme(shape=(), dtype=torch.float64), 'val_mask': Scheme(shape=(), dtype=torch.float64), 'test_mask': Scheme(shape=(), dtype=torch.float64), 'label': Scheme(shape=(), dtype=torch.int64), 'feat': Scheme(shape=(1433,), dtype=torch.float32)}\n",
       "         edata_schemes={})"
      ]
     },
     "execution_count": 54,
     "metadata": {},
     "output_type": "execute_result"
    }
   ],
   "source": [
    "cora_data[0]"
   ]
  },
  {
   "cell_type": "code",
   "execution_count": 27,
   "metadata": {},
   "outputs": [],
   "source": [
    "data2=AmazonCoBuy('computers')"
   ]
  },
  {
   "cell_type": "code",
   "execution_count": 43,
   "metadata": {},
   "outputs": [],
   "source": [
    "data3=AmazonCoBuy('photo')"
   ]
  },
  {
   "cell_type": "code",
   "execution_count": 55,
   "metadata": {},
   "outputs": [
    {
     "data": {
      "text/plain": [
       "DGLGraph(num_nodes=13752, num_edges=574418,\n",
       "         ndata_schemes={'feat': Scheme(shape=(767,), dtype=torch.float32), 'label': Scheme(shape=(), dtype=torch.int64)}\n",
       "         edata_schemes={})"
      ]
     },
     "execution_count": 55,
     "metadata": {},
     "output_type": "execute_result"
    }
   ],
   "source": [
    "data2[0]"
   ]
  },
  {
   "cell_type": "code",
   "execution_count": 40,
   "metadata": {},
   "outputs": [
    {
     "data": {
      "text/plain": [
       "torch.Size([13752])"
      ]
     },
     "execution_count": 40,
     "metadata": {},
     "output_type": "execute_result"
    }
   ],
   "source": [
    "data2[0].ndata['label'].size()"
   ]
  },
  {
   "cell_type": "code",
   "execution_count": 38,
   "metadata": {},
   "outputs": [
    {
     "data": {
      "text/plain": [
       "Counter({4: 5158,\n",
       "         8: 2156,\n",
       "         6: 487,\n",
       "         1: 2142,\n",
       "         3: 542,\n",
       "         9: 291,\n",
       "         2: 1414,\n",
       "         0: 436,\n",
       "         7: 818,\n",
       "         5: 308})"
      ]
     },
     "execution_count": 38,
     "metadata": {},
     "output_type": "execute_result"
    }
   ],
   "source": [
    "Counter(data2[0].ndata['label'].numpy())"
   ]
  },
  {
   "cell_type": "code",
   "execution_count": 44,
   "metadata": {},
   "outputs": [
    {
     "data": {
      "text/plain": [
       "DGLGraph(num_nodes=7650, num_edges=287326,\n",
       "         ndata_schemes={'feat': Scheme(shape=(745,), dtype=torch.float32), 'label': Scheme(shape=(), dtype=torch.int64)}\n",
       "         edata_schemes={})"
      ]
     },
     "execution_count": 44,
     "metadata": {},
     "output_type": "execute_result"
    }
   ],
   "source": [
    "data3[0]"
   ]
  },
  {
   "cell_type": "code",
   "execution_count": 46,
   "metadata": {},
   "outputs": [
    {
     "data": {
      "text/plain": [
       "torch.Size([7650])"
      ]
     },
     "execution_count": 46,
     "metadata": {},
     "output_type": "execute_result"
    }
   ],
   "source": [
    "data3[0].ndata['label'].size()"
   ]
  },
  {
   "cell_type": "code",
   "execution_count": 47,
   "metadata": {},
   "outputs": [
    {
     "data": {
      "text/plain": [
       "Counter({6: 1941, 4: 882, 3: 915, 5: 823, 2: 703, 1: 1686, 0: 369, 7: 331})"
      ]
     },
     "execution_count": 47,
     "metadata": {},
     "output_type": "execute_result"
    }
   ],
   "source": [
    "Counter(data3[0].ndata['label'].numpy())"
   ]
  },
  {
   "cell_type": "code",
   "execution_count": null,
   "metadata": {},
   "outputs": [],
   "source": []
  }
 ],
 "metadata": {
  "kernelspec": {
   "display_name": "Python [conda env:.conda-wxhdl] *",
   "language": "python",
   "name": "conda-env-.conda-wxhdl-py"
  },
  "language_info": {
   "codemirror_mode": {
    "name": "ipython",
    "version": 3
   },
   "file_extension": ".py",
   "mimetype": "text/x-python",
   "name": "python",
   "nbconvert_exporter": "python",
   "pygments_lexer": "ipython3",
   "version": "3.6.9"
  },
  "varInspector": {
   "cols": {
    "lenName": 16,
    "lenType": 16,
    "lenVar": 40
   },
   "kernels_config": {
    "python": {
     "delete_cmd_postfix": "",
     "delete_cmd_prefix": "del ",
     "library": "var_list.py",
     "varRefreshCmd": "print(var_dic_list())"
    },
    "r": {
     "delete_cmd_postfix": ") ",
     "delete_cmd_prefix": "rm(",
     "library": "var_list.r",
     "varRefreshCmd": "cat(var_dic_list()) "
    }
   },
   "types_to_exclude": [
    "module",
    "function",
    "builtin_function_or_method",
    "instance",
    "_Feature"
   ],
   "window_display": false
  }
 },
 "nbformat": 4,
 "nbformat_minor": 2
}
