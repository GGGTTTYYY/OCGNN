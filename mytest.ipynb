{
 "cells": [
  {
   "cell_type": "code",
   "execution_count": 1,
   "metadata": {},
   "outputs": [],
   "source": [
    "from dgl.data import citation_graph\n",
    "import torch\n",
    "import numpy as np"
   ]
  },
  {
   "cell_type": "code",
   "execution_count": 36,
   "metadata": {},
   "outputs": [],
   "source": [
    "data =citation_graph.CoraDataset()\n",
    "labels=np.zeros(data.labels.shape)"
   ]
  },
  {
   "cell_type": "code",
   "execution_count": 17,
   "metadata": {},
   "outputs": [
    {
     "name": "stdout",
     "output_type": "stream",
     "text": [
      "140.0\n",
      "300.0\n",
      "1000.0\n"
     ]
    }
   ],
   "source": [
    "print(data.train_mask.sum())\n",
    "print(data.val_mask.sum())\n",
    "print(data.test_mask.sum())"
   ]
  },
  {
   "cell_type": "code",
   "execution_count": 25,
   "metadata": {},
   "outputs": [
    {
     "data": {
      "text/plain": [
       "(2708,)"
      ]
     },
     "execution_count": 25,
     "metadata": {},
     "output_type": "execute_result"
    }
   ],
   "source": [
    "data.labels.shape"
   ]
  },
  {
   "cell_type": "code",
   "execution_count": 7,
   "metadata": {},
   "outputs": [
    {
     "data": {
      "text/plain": [
       "array([0., 1., 1., ..., 1., 1., 0.])"
      ]
     },
     "execution_count": 7,
     "metadata": {},
     "output_type": "execute_result"
    }
   ],
   "source": [
    "labels"
   ]
  },
  {
   "cell_type": "code",
   "execution_count": 35,
   "metadata": {},
   "outputs": [
    {
     "data": {
      "text/plain": [
       "Counter({1: 2708})"
      ]
     },
     "execution_count": 35,
     "metadata": {},
     "output_type": "execute_result"
    }
   ],
   "source": [
    "from collections import Counter\n",
    "Counter(data.labels)"
   ]
  },
  {
   "cell_type": "code",
   "execution_count": 29,
   "metadata": {},
   "outputs": [
    {
     "data": {
      "text/plain": [
       "Counter({0: 818, 1: 1890})"
      ]
     },
     "execution_count": 29,
     "metadata": {},
     "output_type": "execute_result"
    }
   ],
   "source": [
    "Counter(labels)"
   ]
  },
  {
   "cell_type": "code",
   "execution_count": 31,
   "metadata": {},
   "outputs": [],
   "source": [
    "def one_class_processing(labels,normal_class:int):\n",
    "    labels,normal_idx,abnormal_idx=one_class_labeling(labels,normal_class)\n",
    "    \n",
    "    return one_class_masking(labels,normal_idx,abnormal_idx)\n",
    "\n",
    "\n",
    "def one_class_labeling(labels,normal_class:int):\n",
    "    normal_class=normal_class\n",
    "    normal_idx=np.where(labels==normal_class)[0]\n",
    "    abnormal_idx=np.where(labels!=normal_class)[0]\n",
    "    np.random.shuffle(normal_idx)\n",
    "    np.random.shuffle(abnormal_idx)\n",
    "    labels[normal_idx]=0\n",
    "    labels[abnormal_idx]=1\n",
    "\n",
    "    return labels,normal_idx,abnormal_idx\n",
    "\n",
    "def one_class_masking(labels,normal_idx,abnormal_idx):\n",
    "    train_mask=np.zeros(labels.shape)\n",
    "    val_mask=np.zeros(labels.shape)\n",
    "    test_mask=np.zeros(labels.shape)\n",
    "\n",
    "    train_mask[normal_idx[:int(0.6*normal_idx.shape[0])]]=1\n",
    "\n",
    "    val_mask[normal_idx[int(0.6*normal_idx.shape[0]):int(0.8*normal_idx.shape[0])]]=1\n",
    "    val_mask[abnormal_idx[:int(0.5*abnormal_idx.shape[0])]]=1\n",
    "\n",
    "    test_mask[normal_idx[int(0.8*normal_idx.shape[0]):]]=1\n",
    "    test_mask[abnormal_idx[int(0.5*abnormal_idx.shape[0]):]]=1\n",
    "\n",
    "    return labels,train_mask,val_mask,test_mask  "
   ]
  },
  {
   "cell_type": "code",
   "execution_count": null,
   "metadata": {},
   "outputs": [],
   "source": []
  },
  {
   "cell_type": "code",
   "execution_count": 37,
   "metadata": {},
   "outputs": [],
   "source": [
    "labels,train_mask,val_mask,test_mask=one_class_processing(data.labels,2)"
   ]
  },
  {
   "cell_type": "code",
   "execution_count": null,
   "metadata": {},
   "outputs": [],
   "source": []
  },
  {
   "cell_type": "code",
   "execution_count": 19,
   "metadata": {},
   "outputs": [],
   "source": [
    "train_mask=np.zeros(data.labels.shape)\n",
    "val_mask=np.zeros(data.labels.shape)\n",
    "test_mask=np.zeros(data.labels.shape)"
   ]
  },
  {
   "cell_type": "code",
   "execution_count": 38,
   "metadata": {},
   "outputs": [
    {
     "name": "stdout",
     "output_type": "stream",
     "text": [
      "Counter({0.0: 2218, 1.0: 490})\n",
      "Counter({0.0: 1599, 1.0: 1109})\n",
      "Counter({0.0: 1599, 1.0: 1109})\n"
     ]
    }
   ],
   "source": [
    "print(Counter(train_mask))\n",
    "print(Counter(val_mask))\n",
    "print(Counter(test_mask))"
   ]
  },
  {
   "cell_type": "code",
   "execution_count": 20,
   "metadata": {},
   "outputs": [],
   "source": [
    "train_mask[normal_idx[:int(0.6*normal_idx.shape[0])]]=1"
   ]
  },
  {
   "cell_type": "code",
   "execution_count": 22,
   "metadata": {},
   "outputs": [],
   "source": [
    "val_mask[normal_idx[int(0.6*normal_idx.shape[0]):int(0.8*normal_idx.shape[0])]]=1\n",
    "val_mask[abnormal_idx[:int(0.5*abnormal_idx.shape[0])]]=1"
   ]
  },
  {
   "cell_type": "code",
   "execution_count": 23,
   "metadata": {},
   "outputs": [],
   "source": [
    "test_mask[normal_idx[int(0.8*normal_idx.shape[0]):]]=1\n",
    "test_mask[abnormal_idx[int(0.5*abnormal_idx.shape[0]):]]=1"
   ]
  },
  {
   "cell_type": "code",
   "execution_count": null,
   "metadata": {},
   "outputs": [],
   "source": [
    "train_mask"
   ]
  },
  {
   "cell_type": "code",
   "execution_count": null,
   "metadata": {},
   "outputs": [],
   "source": [
    "data.labels"
   ]
  },
  {
   "cell_type": "code",
   "execution_count": null,
   "metadata": {},
   "outputs": [],
   "source": []
  }
 ],
 "metadata": {
  "kernelspec": {
   "display_name": "Python [conda env:wxhdl]",
   "language": "python",
   "name": "conda-env-wxhdl-py"
  },
  "language_info": {
   "codemirror_mode": {
    "name": "ipython",
    "version": 3
   },
   "file_extension": ".py",
   "mimetype": "text/x-python",
   "name": "python",
   "nbconvert_exporter": "python",
   "pygments_lexer": "ipython3",
   "version": "3.6.5"
  }
 },
 "nbformat": 4,
 "nbformat_minor": 2
}
